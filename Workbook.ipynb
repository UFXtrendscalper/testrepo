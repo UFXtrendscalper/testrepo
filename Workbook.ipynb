{
 "cells": [
  {
   "cell_type": "code",
   "execution_count": 10,
   "metadata": {},
   "outputs": [
    {
     "name": "stdout",
     "output_type": "stream",
     "text": [
      "'Sean Gilbank'\n",
      "'Bob LASTNAME'\n",
      "'Carrie lastname'\n",
      "'June ok'\n",
      "'Carly hmm'\n"
     ]
    }
   ],
   "source": [
    "from pprint import pprint\n",
    "\n",
    "Last_name = ['Gilbank', 'LASTNAME', 'lastname', 'ok', 'hmm']\n",
    "name_list = ['Sean', 'Bob', 'Carrie', 'June', 'Carly']\n",
    "\n",
    "for f_name, l_name in zip(name_list, Last_name):\n",
    "    pprint(f'{f_name} {l_name}')\n",
    "\n",
    "    "
   ]
  },
  {
   "cell_type": "code",
   "execution_count": null,
   "metadata": {},
   "outputs": [],
   "source": []
  }
 ],
 "metadata": {
  "kernelspec": {
   "display_name": "Python 3",
   "language": "python",
   "name": "python3"
  },
  "language_info": {
   "codemirror_mode": {
    "name": "ipython",
    "version": 3
   },
   "file_extension": ".py",
   "mimetype": "text/x-python",
   "name": "python",
   "nbconvert_exporter": "python",
   "pygments_lexer": "ipython3",
   "version": "3.10.4"
  },
  "orig_nbformat": 4,
  "vscode": {
   "interpreter": {
    "hash": "3ad933181bd8a04b432d3370b9dc3b0662ad032c4dfaa4e4f1596c548f763858"
   }
  }
 },
 "nbformat": 4,
 "nbformat_minor": 2
}
